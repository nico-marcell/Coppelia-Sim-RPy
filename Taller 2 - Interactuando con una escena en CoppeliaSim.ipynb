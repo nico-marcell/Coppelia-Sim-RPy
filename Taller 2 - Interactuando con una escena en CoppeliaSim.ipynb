{
 "cells": [
  {
   "attachments": {},
   "cell_type": "markdown",
   "id": "40dacb44",
   "metadata": {},
   "source": [
    "<h2>Taller 2 - Interactuando con una escena en CoppeliaSim</h2>\n",
    "<br>Autor: Claudio Morales D.\n",
    "<br>Centro de Automatización y Robótica Inacap\n",
    "<br>Santiago, Chile, enero 2023\n"
   ]
  },
  {
   "attachments": {},
   "cell_type": "markdown",
   "id": "b05cacc3",
   "metadata": {},
   "source": [
    "<h3>zeroMQ remote API: Información preliminar</h3>\n",
    "<br>Entre las múltiples opciones de comunicación con CoppeliaSIm, la zeroMQ remote API entrega funcionalidades que facilitan la interacción con scripts de Python y con otros lenguajes de programación.\n",
    "<br>Las instrucciones para instalar la librería se encuentra aquí: <a>https://www.coppeliarobotics.com/helpFiles/en/zmqRemoteApiOverview.htm</a>\n",
    "<br>La descripción detallada de las funciones de la API se encuentra aquí: <a>https://www.coppeliarobotics.com/helpFiles/en/apiFunctions.htm</a>"
   ]
  },
  {
   "attachments": {},
   "cell_type": "markdown",
   "id": "c8f2767d",
   "metadata": {},
   "source": [
    "<h3>1. Instrucciones mínimas para comunicarse con CoppeliaSim</h3>\n",
    "\n",
    "Varios ejemplos del uso de la zeroMQ remote API pueden consultarse aquí: <a>https://github.com/CoppeliaRobotics/zmqRemoteApi/tree/master/clients/python</a>"
   ]
  },
  {
   "cell_type": "code",
   "execution_count": 13,
   "id": "8eaf94ae",
   "metadata": {},
   "outputs": [
    {
     "name": "stdout",
     "output_type": "stream",
     "text": [
      "warning: import zmqRemoteApi is deprecated. Please use import coppeliasim_zmqremoteapi_client instead.\n"
     ]
    }
   ],
   "source": [
    "# 1. Importamos la librería para comunicaciones remotas\n",
    "# NOTA 1: Se requiere la instalación previa de pyzmq y cbor.\n",
    "# NOTA 2: Si la librería no está direccionada en el PATH de python, copiar \n",
    "#         la carpeta de librería 'zmqRemoteApi' junto a este cuaderno de Jypyter. \n",
    "#         'zmqRemoteApi' para Python se encuentra en:\n",
    "#                 *ruta de instalacion*\\CoppeliaSimEdu\\programming\\zmqRemoteApi\\clients\\python\\\n",
    "import zmqRemoteApi\n",
    "\n",
    "# 2. Se crea un cliente para conectarse al servidor zmqRemoteApi de CoppeliaSim\n",
    "# los parámetros por defecto son: host='localhost', port=23000\n",
    "client = zmqRemoteApi.RemoteAPIClient()\n",
    "\n",
    "# 3. Obtener el objeto remoto 'sim':\n",
    "sim = client.getObject('sim')\n",
    "\n",
    "# 4. Llamar a una funcion de la API:\n",
    "h = sim.getObject('/base')"
   ]
  },
  {
   "cell_type": "code",
   "execution_count": 14,
   "id": "c6e5e95b",
   "metadata": {},
   "outputs": [
    {
     "data": {
      "text/plain": [
       "15"
      ]
     },
     "execution_count": 14,
     "metadata": {},
     "output_type": "execute_result"
    }
   ],
   "source": [
    "h"
   ]
  },
  {
   "cell_type": "code",
   "execution_count": 15,
   "id": "74937c59",
   "metadata": {},
   "outputs": [
    {
     "data": {
      "text/plain": [
       "16"
      ]
     },
     "execution_count": 15,
     "metadata": {},
     "output_type": "execute_result"
    }
   ],
   "source": [
    "joint1 = sim.getObject('/base/joint1')\n",
    "joint1"
   ]
  },
  {
   "attachments": {},
   "cell_type": "markdown",
   "id": "86fa1349",
   "metadata": {},
   "source": [
    "<h3>2. Usando la API remota para mover nuestro robot </h3>\n"
   ]
  },
  {
   "cell_type": "code",
   "execution_count": 16,
   "id": "23aa093d",
   "metadata": {},
   "outputs": [],
   "source": [
    "# Cargamos la librería, creamos un cliente y obtenemos acceso a sim\n",
    "import zmqRemoteApi\n",
    "client = zmqRemoteApi.RemoteAPIClient()\n",
    "sim = client.getObject('sim')"
   ]
  },
  {
   "cell_type": "code",
   "execution_count": 17,
   "id": "19a33923",
   "metadata": {},
   "outputs": [
    {
     "name": "stdout",
     "output_type": "stream",
     "text": [
      "16 19 23 27\n"
     ]
    }
   ],
   "source": [
    "# Obtenemos los manejadores para las articulaciones y el actuador final\n",
    "joint1 = sim.getObject('/base/joint1')\n",
    "joint2 = sim.getObject('/base/joint2')\n",
    "joint3 = sim.getObject('/base/joint3')\n",
    "endEffector = sim.getObject('/base/connection')\n",
    "\n",
    "print(joint1, joint2, joint3, endEffector)"
   ]
  },
  {
   "cell_type": "code",
   "execution_count": 46,
   "id": "63083563",
   "metadata": {},
   "outputs": [
    {
     "data": {
      "text/plain": [
       "1"
      ]
     },
     "execution_count": 46,
     "metadata": {},
     "output_type": "execute_result"
    }
   ],
   "source": [
    "# Ahora movemos el robot\n",
    "sim.setJointTargetPosition(joint1, 1)\n"
   ]
  },
  {
   "cell_type": "code",
   "execution_count": 48,
   "id": "b3980f3c",
   "metadata": {},
   "outputs": [
    {
     "data": {
      "text/plain": [
       "1"
      ]
     },
     "execution_count": 48,
     "metadata": {},
     "output_type": "execute_result"
    }
   ],
   "source": [
    "sim.setJointTargetPosition(joint2, -0.15)"
   ]
  },
  {
   "cell_type": "code",
   "execution_count": 50,
   "id": "36b1d72e",
   "metadata": {},
   "outputs": [
    {
     "data": {
      "text/plain": [
       "1"
      ]
     },
     "execution_count": 50,
     "metadata": {},
     "output_type": "execute_result"
    }
   ],
   "source": [
    "sim.setJointTargetPosition(joint3, -270*3.14159/180)"
   ]
  },
  {
   "cell_type": "code",
   "execution_count": 49,
   "id": "a4ffa8b6",
   "metadata": {},
   "outputs": [
    {
     "data": {
      "text/plain": [
       "1"
      ]
     },
     "execution_count": 49,
     "metadata": {},
     "output_type": "execute_result"
    }
   ],
   "source": [
    "sim.setJointTargetPosition(joint1, -45*3.14159/180)\n",
    "sim.setJointTargetPosition(joint3, -270*3.14159/180)"
   ]
  },
  {
   "cell_type": "code",
   "execution_count": 31,
   "id": "ae48041a",
   "metadata": {},
   "outputs": [
    {
     "data": {
      "text/plain": [
       "[0.5249851758307448, 0.15000012816625433, 0.07799987772630296]"
      ]
     },
     "execution_count": 31,
     "metadata": {},
     "output_type": "execute_result"
    }
   ],
   "source": [
    "sim.getObjectPosition(endEffector, sim.handle_world)"
   ]
  },
  {
   "attachments": {},
   "cell_type": "markdown",
   "id": "93b34a15",
   "metadata": {},
   "source": [
    "<h3>Práctica con el Robot </h3>\n"
   ]
  },
  {
   "cell_type": "code",
   "execution_count": 66,
   "id": "ba49539a",
   "metadata": {},
   "outputs": [
    {
     "data": {
      "text/plain": [
       "1"
      ]
     },
     "execution_count": 66,
     "metadata": {},
     "output_type": "execute_result"
    }
   ],
   "source": [
    "#Movimiento del robot\n",
    "#se moverán los 3 joints a la vez\n",
    "sim.setJointTargetPosition(joint1, 90*3.14159/180)\n",
    "sim.setJointTargetPosition(joint2, 0.15)# debido a que joint2 es prismático su movimiento se mide en metros\n",
    "sim.setJointTargetPosition(joint3, 50*3.14159/180)"
   ]
  },
  {
   "cell_type": "code",
   "execution_count": 67,
   "id": "6bec3522",
   "metadata": {},
   "outputs": [
    {
     "name": "stdout",
     "output_type": "stream",
     "text": [
      "Joint1: [0.12500044610351324, 0.1499997988300038, -2.0116567611694336e-07] joint2: [0.12500047030284417, 0.14999980829328138, 0.12999999309285556] joint3: [0.12498894905766716, 0.3500156829507799, 0.2799512079598342] endEffector: [-0.02822396312371181, 0.47851889286282867, 0.22783370489400565]\n"
     ]
    }
   ],
   "source": [
    "#Búsqueda de posición del robot\n",
    "xyz_joint1 = sim.getObjectPosition(joint1, sim.handle_world)\n",
    "xyz_joint2 = sim.getObjectPosition(joint2, sim.handle_world)\n",
    "xyz_joint3 = sim.getObjectPosition(joint3, sim.handle_world)\n",
    "xyz_endEffector = sim.getObjectPosition(endEffector, sim.handle_world)\n",
    "\n",
    "#Imprimir las coordenadas en pantalla\n",
    "print(f'Joint1: {xyz_joint1}', f'joint2: {xyz_joint2}', f'joint3: {xyz_joint3}', f'endEffector: {xyz_endEffector}')"
   ]
  },
  {
   "cell_type": "code",
   "execution_count": 68,
   "id": "d9310404",
   "metadata": {},
   "outputs": [
    {
     "name": "stdout",
     "output_type": "stream",
     "text": [
      "joint1: [0.12500044610351324, 0.1499997988300038, -2.0116567611694336e-07]\n",
      "joint2: [0.12500047030284417, 0.14999980829328138, 0.12999999309285556]\n",
      "joint3: [0.12498894905766716, 0.3500156829507799, 0.2799512079598342]\n",
      "endEffector: [-0.02822396312371181, 0.47851889286282867, 0.22783370489400565]\n"
     ]
    }
   ],
   "source": [
    "#Imprimir las coordenadas en pantalla\n",
    "print(f'joint1: {xyz_joint1}')\n",
    "print(f'joint2: {xyz_joint2}')\n",
    "print(f'joint3: {xyz_joint3}')\n",
    "print(f'endEffector: {xyz_endEffector}')"
   ]
  }
 ],
 "metadata": {
  "kernelspec": {
   "display_name": "Python 3 (ipykernel)",
   "language": "python",
   "name": "python3"
  },
  "language_info": {
   "codemirror_mode": {
    "name": "ipython",
    "version": 3
   },
   "file_extension": ".py",
   "mimetype": "text/x-python",
   "name": "python",
   "nbconvert_exporter": "python",
   "pygments_lexer": "ipython3",
   "version": "3.10.0"
  }
 },
 "nbformat": 4,
 "nbformat_minor": 5
}
